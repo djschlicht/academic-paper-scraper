{
 "cells": [
  {
   "cell_type": "code",
   "execution_count": 1,
   "metadata": {
    "slideshow": {
     "slide_type": "-"
    }
   },
   "outputs": [],
   "source": [
    "import spacy\n",
    "\n",
    "# Loads NLP English model\n",
    "nlp = spacy.load('en')"
   ]
  },
  {
   "cell_type": "code",
   "execution_count": 2,
   "metadata": {},
   "outputs": [],
   "source": [
    "# Reads text\n",
    "text = \"On March 11, 2020, the World Health Organization declared the coronavirus disease 2019, COVID-19, a global pandemic. In \\\n",
    "an unprecedented collective efort, massive amounts of data are now being collected worldwide to estimate the immediate and \\\n",
    "long-term impact of this pandemic on the health system and the global economy. However, the precise timeline of the disease, \\\n",
    "its transmissibility, and the efect of mitigation strategies remain incompletely understood. Here we integrate a global network \\\n",
    "model with a local epidemic SEIR model to quantify the outbreak dynamics of COVID-19 in China and the United States. For \\\n",
    "the outbreak in China, in n = 30 provinces, we found a latent period of 2.56 ± 0.72 days, a contact period of 1.47 ± 0.32 days, \\\n",
    "and an infectious period of 17.82 ± 2.95 days. We postulate that the latent and infectious periods are disease-specifc, whereas \\\n",
    "the contact period is behavior-specifc and can vary between diferent provinces, states, or countries. Our network model predicts \\\n",
    "that—without the massive political mitigation strategies that are in place today— \\\n",
    "the United States would have faced a basic reproduction number of 5.30 ± 0.95 and a nationwide peak of the outbreak on May \\\n",
    "10, 2020 with 3 million infections. Our results demonstrate how mathematical modeling can help estimate outbreak dynamics \\\n",
    "and provide decision guidelines for successful outbreak control. We anticipate that our model will become a valuable tool to \\\n",
    "estimate the potential of vaccination and quantify the efect of relaxing political measures including total lockdown, shelter in \\\n",
    "place, and travel restrictions for low-risk subgroups of the population or for the population as a whole.\""
   ]
  },
  {
   "cell_type": "code",
   "execution_count": 3,
   "metadata": {},
   "outputs": [],
   "source": [
    "# Convert text into NLP object\n",
    "textdoc = nlp(text)"
   ]
  },
  {
   "cell_type": "code",
   "execution_count": 4,
   "metadata": {},
   "outputs": [
    {
     "data": {
      "text/plain": [
       "['On March 11, 2020, the World Health Organization declared the coronavirus disease 2019, COVID-19, a global pandemic.',\n",
       " 'In an unprecedented collective efort, massive amounts of data are now being collected worldwide to estimate the immediate and long-term impact of this pandemic on the health system and the global economy.',\n",
       " 'However, the precise timeline of the disease, its transmissibility, and the efect of mitigation strategies remain incompletely understood.',\n",
       " 'Here we integrate a global network model with a local epidemic SEIR model to quantify the outbreak dynamics of COVID-19 in China and the United States.',\n",
       " 'For the outbreak in China, in n = 30 provinces, we found a latent period of 2.56 ± 0.72 days, a contact period of 1.47 ± 0.32 days, and an infectious period of 17.82 ± 2.95 days.']"
      ]
     },
     "execution_count": 4,
     "metadata": {},
     "output_type": "execute_result"
    }
   ],
   "source": [
    "sents = list(str(sent) for sent in list(textdoc.sents))\n",
    "sents[:5]"
   ]
  },
  {
   "cell_type": "code",
   "execution_count": 6,
   "metadata": {},
   "outputs": [
    {
     "data": {
      "text/html": [
       "<div>\n",
       "<style scoped>\n",
       "    .dataframe tbody tr th:only-of-type {\n",
       "        vertical-align: middle;\n",
       "    }\n",
       "\n",
       "    .dataframe tbody tr th {\n",
       "        vertical-align: top;\n",
       "    }\n",
       "\n",
       "    .dataframe thead th {\n",
       "        text-align: right;\n",
       "    }\n",
       "</style>\n",
       "<table border=\"1\" class=\"dataframe\">\n",
       "  <thead>\n",
       "    <tr style=\"text-align: right;\">\n",
       "      <th></th>\n",
       "      <th>Sentence</th>\n",
       "    </tr>\n",
       "  </thead>\n",
       "  <tbody>\n",
       "    <tr>\n",
       "      <th>0</th>\n",
       "      <td>On March 11, 2020, the World Health Organization declared the coronavirus disease 2019, COVID-19, a global pandemic.</td>\n",
       "    </tr>\n",
       "    <tr>\n",
       "      <th>1</th>\n",
       "      <td>In an unprecedented collective efort, massive amounts of data are now being collected worldwide to estimate the immediate and long-term impact of this pandemic on the health system and the global economy.</td>\n",
       "    </tr>\n",
       "    <tr>\n",
       "      <th>2</th>\n",
       "      <td>However, the precise timeline of the disease, its transmissibility, and the efect of mitigation strategies remain incompletely understood.</td>\n",
       "    </tr>\n",
       "    <tr>\n",
       "      <th>3</th>\n",
       "      <td>Here we integrate a global network model with a local epidemic SEIR model to quantify the outbreak dynamics of COVID-19 in China and the United States.</td>\n",
       "    </tr>\n",
       "    <tr>\n",
       "      <th>4</th>\n",
       "      <td>For the outbreak in China, in n = 30 provinces, we found a latent period of 2.56 ± 0.72 days, a contact period of 1.47 ± 0.32 days, and an infectious period of 17.82 ± 2.95 days.</td>\n",
       "    </tr>\n",
       "    <tr>\n",
       "      <th>5</th>\n",
       "      <td>We postulate that the latent and infectious periods are disease-specifc, whereas the contact period is behavior-specifc and can vary between diferent provinces, states, or countries.</td>\n",
       "    </tr>\n",
       "    <tr>\n",
       "      <th>6</th>\n",
       "      <td>Our network model predicts that—without the massive political mitigation strategies that are in place today— the United States would have faced a basic reproduction number of 5.30 ± 0.95 and a nationwide peak of the outbreak on May 10, 2020 with 3 million infections.</td>\n",
       "    </tr>\n",
       "    <tr>\n",
       "      <th>7</th>\n",
       "      <td>Our results demonstrate how mathematical modeling can help estimate outbreak dynamics and provide decision guidelines for successful outbreak control.</td>\n",
       "    </tr>\n",
       "    <tr>\n",
       "      <th>8</th>\n",
       "      <td>We anticipate that our model will become a valuable tool to estimate the potential of vaccination and quantify the efect of relaxing political measures including total lockdown, shelter in place, and travel restrictions for low-risk subgroups of the population or for the population as a whole.</td>\n",
       "    </tr>\n",
       "  </tbody>\n",
       "</table>\n",
       "</div>"
      ],
      "text/plain": [
       "                                                                                                                                                                                                                                                                                                 Sentence\n",
       "0                                                                                                                                                                                    On March 11, 2020, the World Health Organization declared the coronavirus disease 2019, COVID-19, a global pandemic.\n",
       "1                                                                                            In an unprecedented collective efort, massive amounts of data are now being collected worldwide to estimate the immediate and long-term impact of this pandemic on the health system and the global economy.\n",
       "2                                                                                                                                                              However, the precise timeline of the disease, its transmissibility, and the efect of mitigation strategies remain incompletely understood.\n",
       "3                                                                                                                                                 Here we integrate a global network model with a local epidemic SEIR model to quantify the outbreak dynamics of COVID-19 in China and the United States.\n",
       "4                                                                                                                      For the outbreak in China, in n = 30 provinces, we found a latent period of 2.56 ± 0.72 days, a contact period of 1.47 ± 0.32 days, and an infectious period of 17.82 ± 2.95 days.\n",
       "5                                                                                                                  We postulate that the latent and infectious periods are disease-specifc, whereas the contact period is behavior-specifc and can vary between diferent provinces, states, or countries.\n",
       "6                             Our network model predicts that—without the massive political mitigation strategies that are in place today— the United States would have faced a basic reproduction number of 5.30 ± 0.95 and a nationwide peak of the outbreak on May 10, 2020 with 3 million infections.\n",
       "7                                                                                                                                                  Our results demonstrate how mathematical modeling can help estimate outbreak dynamics and provide decision guidelines for successful outbreak control.\n",
       "8  We anticipate that our model will become a valuable tool to estimate the potential of vaccination and quantify the efect of relaxing political measures including total lockdown, shelter in place, and travel restrictions for low-risk subgroups of the population or for the population as a whole."
      ]
     },
     "execution_count": 6,
     "metadata": {},
     "output_type": "execute_result"
    }
   ],
   "source": [
    "import pandas as pd\n",
    "pd.set_option('display.max_colwidth', None)\n",
    "# Put all sentences in the dataframe\n",
    "sentsdf = pd.DataFrame(sents, columns = ['Sentence'])\n",
    "sentsdf"
   ]
  },
  {
   "cell_type": "code",
   "execution_count": 12,
   "metadata": {},
   "outputs": [
    {
     "data": {
      "text/html": [
       "<div>\n",
       "<style scoped>\n",
       "    .dataframe tbody tr th:only-of-type {\n",
       "        vertical-align: middle;\n",
       "    }\n",
       "\n",
       "    .dataframe tbody tr th {\n",
       "        vertical-align: top;\n",
       "    }\n",
       "\n",
       "    .dataframe thead th {\n",
       "        text-align: right;\n",
       "    }\n",
       "</style>\n",
       "<table border=\"1\" class=\"dataframe\">\n",
       "  <thead>\n",
       "    <tr style=\"text-align: right;\">\n",
       "      <th></th>\n",
       "      <th>Estimates</th>\n",
       "      <th>Citation</th>\n",
       "      <th>Rule</th>\n",
       "    </tr>\n",
       "    <tr>\n",
       "      <th>Parameter</th>\n",
       "      <th></th>\n",
       "      <th></th>\n",
       "      <th></th>\n",
       "    </tr>\n",
       "  </thead>\n",
       "  <tbody>\n",
       "    <tr>\n",
       "      <th>latency</th>\n",
       "      <td>NaN</td>\n",
       "      <td>NaN</td>\n",
       "      <td>NaN</td>\n",
       "    </tr>\n",
       "    <tr>\n",
       "      <th>infectious</th>\n",
       "      <td>NaN</td>\n",
       "      <td>NaN</td>\n",
       "      <td>NaN</td>\n",
       "    </tr>\n",
       "    <tr>\n",
       "      <th>contact</th>\n",
       "      <td>NaN</td>\n",
       "      <td>NaN</td>\n",
       "      <td>NaN</td>\n",
       "    </tr>\n",
       "    <tr>\n",
       "      <th>reproduction</th>\n",
       "      <td>NaN</td>\n",
       "      <td>NaN</td>\n",
       "      <td>NaN</td>\n",
       "    </tr>\n",
       "  </tbody>\n",
       "</table>\n",
       "</div>"
      ],
      "text/plain": [
       "             Estimates Citation Rule\n",
       "Parameter                           \n",
       "latency            NaN      NaN  NaN\n",
       "infectious         NaN      NaN  NaN\n",
       "contact            NaN      NaN  NaN\n",
       "reproduction       NaN      NaN  NaN"
      ]
     },
     "execution_count": 12,
     "metadata": {},
     "output_type": "execute_result"
    }
   ],
   "source": [
    "import numpy as np \n",
    "\n",
    "dict_map = {\n",
    "    \"infectious\":\"infectious\", \n",
    "    \"contact\":\"contact\",\n",
    "    \"latency\":\"latency\",\n",
    "    \"latent\":\"latency\",\n",
    "    \"reproduction\":\"reproduction\"\n",
    "}\n",
    "statsdf = pd.DataFrame(index = set(dict_map.values()), columns=['Estimates','Citation','Rule'])\n",
    "statsdf.index.name = 'Parameter'"
   ]
  },
  {
   "cell_type": "code",
   "execution_count": 13,
   "metadata": {},
   "outputs": [],
   "source": [
    "from spacy.matcher import Matcher\n",
    "\n",
    "matcher = Matcher(nlp.vocab)\n",
    "\n",
    "idx = None\n",
    "def funnel_values(estimates, parameter, rule_name):\n",
    "    global statsdf\n",
    "    if parameter:\n",
    "        statsdf.at[parameter,'Estimates'] = estimates\n",
    "        statsdf.at[parameter,'Citation'] = idx\n",
    "        statsdf.at[parameter,'Rule'] = rule_name\n",
    "    elif idx not in list(statsdf.Citation) and\\\n",
    "        estimates not in list(statsdf.Estimates.loc[statsdf.Citation == idx]) :\n",
    "        statsdf.loc[len(statsdf)] = [estimates, idx, rule_name]"
   ]
  },
  {
   "cell_type": "code",
   "execution_count": 9,
   "metadata": {},
   "outputs": [
    {
     "data": {
      "text/plain": [
       "'For the outbreak in China, in n = 30 provinces, we found a latent period of 2.56 ± 0.72 days, a contact period of 1.47 ± 0.32 days, and an infectious period of 17.82 ± 2.95 days.'"
      ]
     },
     "execution_count": 9,
     "metadata": {},
     "output_type": "execute_result"
    }
   ],
   "source": [
    "sentsdf.Sentence[4]"
   ]
  },
  {
   "cell_type": "code",
   "execution_count": 10,
   "metadata": {},
   "outputs": [],
   "source": [
    "pm_rule = [{\"IS_ALPHA\":True},{\"IS_ALPHA\":True},{\"IS_ALPHA\":True},\\\n",
    "           {\"LIKE_NUM\":True}, {\"TEXT\":\"±\"}, {\"LIKE_NUM\":True}]\n",
    "\n",
    "def pm_map(matcher, doc, id, matches):\n",
    "    for match_id, start, end in matches:\n",
    "        string = str(doc[start:end])\n",
    "        split_span = string.split()\n",
    "        \n",
    "        avg = round(float(split_span[-3]),2)\n",
    "        moe = round(float(split_span[-1]),2)\n",
    "        \n",
    "        estimates = (avg-moe,avg+moe)\n",
    "        parameter = dict_map.get(split_span[0])\n",
    "        \n",
    "        funnel_values(estimates, parameter, \"pm_map\")\n",
    "        \n",
    "matcher.add(\"pm_rule\", pm_map, pm_rule)"
   ]
  },
  {
   "cell_type": "code",
   "execution_count": 11,
   "metadata": {},
   "outputs": [
    {
     "data": {
      "text/html": [
       "<div>\n",
       "<style scoped>\n",
       "    .dataframe tbody tr th:only-of-type {\n",
       "        vertical-align: middle;\n",
       "    }\n",
       "\n",
       "    .dataframe tbody tr th {\n",
       "        vertical-align: top;\n",
       "    }\n",
       "\n",
       "    .dataframe thead th {\n",
       "        text-align: right;\n",
       "    }\n",
       "</style>\n",
       "<table border=\"1\" class=\"dataframe\">\n",
       "  <thead>\n",
       "    <tr style=\"text-align: right;\">\n",
       "      <th></th>\n",
       "      <th>Estimates</th>\n",
       "      <th>Citation</th>\n",
       "      <th>Rule</th>\n",
       "    </tr>\n",
       "    <tr>\n",
       "      <th>Parameter</th>\n",
       "      <th></th>\n",
       "      <th></th>\n",
       "      <th></th>\n",
       "    </tr>\n",
       "  </thead>\n",
       "  <tbody>\n",
       "    <tr>\n",
       "      <th>latency</th>\n",
       "      <td>(1.84, 3.2800000000000002)</td>\n",
       "      <td>4</td>\n",
       "      <td>pm_map</td>\n",
       "    </tr>\n",
       "    <tr>\n",
       "      <th>infectious</th>\n",
       "      <td>(14.870000000000001, 20.77)</td>\n",
       "      <td>4</td>\n",
       "      <td>pm_map</td>\n",
       "    </tr>\n",
       "    <tr>\n",
       "      <th>contact</th>\n",
       "      <td>(1.15, 1.79)</td>\n",
       "      <td>4</td>\n",
       "      <td>pm_map</td>\n",
       "    </tr>\n",
       "    <tr>\n",
       "      <th>reproduction</th>\n",
       "      <td>(4.35, 6.25)</td>\n",
       "      <td>6</td>\n",
       "      <td>pm_map</td>\n",
       "    </tr>\n",
       "  </tbody>\n",
       "</table>\n",
       "</div>"
      ],
      "text/plain": [
       "                                Estimates Citation    Rule\n",
       "Parameter                                                 \n",
       "latency        (1.84, 3.2800000000000002)        4  pm_map\n",
       "infectious    (14.870000000000001, 20.77)        4  pm_map\n",
       "contact                      (1.15, 1.79)        4  pm_map\n",
       "reproduction                 (4.35, 6.25)        6  pm_map"
      ]
     },
     "execution_count": 11,
     "metadata": {},
     "output_type": "execute_result"
    }
   ],
   "source": [
    "statsdf = pd.DataFrame(index = set(dict_map.values()), columns=['Estimates','Citation','Rule'])\n",
    "statsdf.index.name = 'Parameter'\n",
    "statsdf\n",
    "\n",
    "for idx in sentsdf.index:\n",
    "    sentence = sentsdf.Sentence[idx]\n",
    "    doc = nlp(sentence)\n",
    "    matches = matcher(doc)\n",
    "statsdf"
   ]
  },
  {
   "cell_type": "code",
   "execution_count": null,
   "metadata": {},
   "outputs": [],
   "source": []
  }
 ],
 "metadata": {
  "kernelspec": {
   "display_name": "Python 3",
   "language": "python",
   "name": "python3"
  },
  "language_info": {
   "codemirror_mode": {
    "name": "ipython",
    "version": 3
   },
   "file_extension": ".py",
   "mimetype": "text/x-python",
   "name": "python",
   "nbconvert_exporter": "python",
   "pygments_lexer": "ipython3",
   "version": "3.8.3"
  }
 },
 "nbformat": 4,
 "nbformat_minor": 4
}
